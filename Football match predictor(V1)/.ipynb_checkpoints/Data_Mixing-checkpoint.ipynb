{
 "cells": [
  {
   "cell_type": "code",
   "execution_count": 288,
   "id": "f3aae3f5-af16-40b4-a307-3543664a028a",
   "metadata": {},
   "outputs": [],
   "source": [
    "import pandas as pd\n",
    "import numpy as np"
   ]
  },
  {
   "cell_type": "code",
   "execution_count": 290,
   "id": "cee9bb7b-f36c-4a17-b5ad-5e26dda22763",
   "metadata": {},
   "outputs": [],
   "source": [
    "alldata = pd.read_csv('Data.csv', encoding=\"ISO-8859-1\")\n",
    "spanish = pd.read_csv('./Data set/Spanish.csv')\n",
    "german = pd.read_csv('./Data set/Bundsliga.csv', encoding=\"ISO-8859-1\")\n",
    "france = pd.read_csv('./Data set/france_football - Copy.csv', encoding=\"ISO-8859-1\")"
   ]
  },
  {
   "cell_type": "code",
   "execution_count": 291,
   "id": "de636d65-9db2-4db3-93fe-f801a1ee2d0e",
   "metadata": {},
   "outputs": [],
   "source": [
    "Labels = ['Home_Team', 'Away_team', 'Home_score', 'Away_score', 'Season']"
   ]
  },
  {
   "cell_type": "code",
   "execution_count": 294,
   "id": "6747ce67-2522-494d-b358-f801f712aeb2",
   "metadata": {},
   "outputs": [
    {
     "ename": "KeyError",
     "evalue": "'Away_Team_Score'",
     "output_type": "error",
     "traceback": [
      "\u001b[1;31m---------------------------------------------------------------------------\u001b[0m",
      "\u001b[1;31mKeyError\u001b[0m                                  Traceback (most recent call last)",
      "File \u001b[1;32mD:\\Anaconda\\Lib\\site-packages\\pandas\\core\\indexes\\base.py:3805\u001b[0m, in \u001b[0;36mIndex.get_loc\u001b[1;34m(self, key)\u001b[0m\n\u001b[0;32m   3804\u001b[0m \u001b[38;5;28;01mtry\u001b[39;00m:\n\u001b[1;32m-> 3805\u001b[0m     \u001b[38;5;28;01mreturn\u001b[39;00m \u001b[38;5;28mself\u001b[39m\u001b[38;5;241m.\u001b[39m_engine\u001b[38;5;241m.\u001b[39mget_loc(casted_key)\n\u001b[0;32m   3806\u001b[0m \u001b[38;5;28;01mexcept\u001b[39;00m \u001b[38;5;167;01mKeyError\u001b[39;00m \u001b[38;5;28;01mas\u001b[39;00m err:\n",
      "File \u001b[1;32mindex.pyx:167\u001b[0m, in \u001b[0;36mpandas._libs.index.IndexEngine.get_loc\u001b[1;34m()\u001b[0m\n",
      "File \u001b[1;32mindex.pyx:196\u001b[0m, in \u001b[0;36mpandas._libs.index.IndexEngine.get_loc\u001b[1;34m()\u001b[0m\n",
      "File \u001b[1;32mpandas\\\\_libs\\\\hashtable_class_helper.pxi:7081\u001b[0m, in \u001b[0;36mpandas._libs.hashtable.PyObjectHashTable.get_item\u001b[1;34m()\u001b[0m\n",
      "File \u001b[1;32mpandas\\\\_libs\\\\hashtable_class_helper.pxi:7089\u001b[0m, in \u001b[0;36mpandas._libs.hashtable.PyObjectHashTable.get_item\u001b[1;34m()\u001b[0m\n",
      "\u001b[1;31mKeyError\u001b[0m: 'Away_Team_Score'",
      "\nThe above exception was the direct cause of the following exception:\n",
      "\u001b[1;31mKeyError\u001b[0m                                  Traceback (most recent call last)",
      "Cell \u001b[1;32mIn[294], line 1\u001b[0m\n\u001b[1;32m----> 1\u001b[0m away_Score \u001b[38;5;241m=\u001b[39m alldata[\u001b[38;5;124m'\u001b[39m\u001b[38;5;124mAway_Team_Score\u001b[39m\u001b[38;5;124m'\u001b[39m]\u001b[38;5;241m.\u001b[39mcopy()\n\u001b[0;32m      2\u001b[0m alldata\u001b[38;5;241m.\u001b[39mcolumns \u001b[38;5;241m=\u001b[39m Labels\n\u001b[0;32m      3\u001b[0m alldata[\u001b[38;5;124m'\u001b[39m\u001b[38;5;124mAway_team\u001b[39m\u001b[38;5;124m'\u001b[39m] \u001b[38;5;241m=\u001b[39m alldata[\u001b[38;5;124m'\u001b[39m\u001b[38;5;124mHome_Team\u001b[39m\u001b[38;5;124m'\u001b[39m]\n",
      "File \u001b[1;32mD:\\Anaconda\\Lib\\site-packages\\pandas\\core\\frame.py:4102\u001b[0m, in \u001b[0;36mDataFrame.__getitem__\u001b[1;34m(self, key)\u001b[0m\n\u001b[0;32m   4100\u001b[0m \u001b[38;5;28;01mif\u001b[39;00m \u001b[38;5;28mself\u001b[39m\u001b[38;5;241m.\u001b[39mcolumns\u001b[38;5;241m.\u001b[39mnlevels \u001b[38;5;241m>\u001b[39m \u001b[38;5;241m1\u001b[39m:\n\u001b[0;32m   4101\u001b[0m     \u001b[38;5;28;01mreturn\u001b[39;00m \u001b[38;5;28mself\u001b[39m\u001b[38;5;241m.\u001b[39m_getitem_multilevel(key)\n\u001b[1;32m-> 4102\u001b[0m indexer \u001b[38;5;241m=\u001b[39m \u001b[38;5;28mself\u001b[39m\u001b[38;5;241m.\u001b[39mcolumns\u001b[38;5;241m.\u001b[39mget_loc(key)\n\u001b[0;32m   4103\u001b[0m \u001b[38;5;28;01mif\u001b[39;00m is_integer(indexer):\n\u001b[0;32m   4104\u001b[0m     indexer \u001b[38;5;241m=\u001b[39m [indexer]\n",
      "File \u001b[1;32mD:\\Anaconda\\Lib\\site-packages\\pandas\\core\\indexes\\base.py:3812\u001b[0m, in \u001b[0;36mIndex.get_loc\u001b[1;34m(self, key)\u001b[0m\n\u001b[0;32m   3807\u001b[0m     \u001b[38;5;28;01mif\u001b[39;00m \u001b[38;5;28misinstance\u001b[39m(casted_key, \u001b[38;5;28mslice\u001b[39m) \u001b[38;5;129;01mor\u001b[39;00m (\n\u001b[0;32m   3808\u001b[0m         \u001b[38;5;28misinstance\u001b[39m(casted_key, abc\u001b[38;5;241m.\u001b[39mIterable)\n\u001b[0;32m   3809\u001b[0m         \u001b[38;5;129;01mand\u001b[39;00m \u001b[38;5;28many\u001b[39m(\u001b[38;5;28misinstance\u001b[39m(x, \u001b[38;5;28mslice\u001b[39m) \u001b[38;5;28;01mfor\u001b[39;00m x \u001b[38;5;129;01min\u001b[39;00m casted_key)\n\u001b[0;32m   3810\u001b[0m     ):\n\u001b[0;32m   3811\u001b[0m         \u001b[38;5;28;01mraise\u001b[39;00m InvalidIndexError(key)\n\u001b[1;32m-> 3812\u001b[0m     \u001b[38;5;28;01mraise\u001b[39;00m \u001b[38;5;167;01mKeyError\u001b[39;00m(key) \u001b[38;5;28;01mfrom\u001b[39;00m \u001b[38;5;21;01merr\u001b[39;00m\n\u001b[0;32m   3813\u001b[0m \u001b[38;5;28;01mexcept\u001b[39;00m \u001b[38;5;167;01mTypeError\u001b[39;00m:\n\u001b[0;32m   3814\u001b[0m     \u001b[38;5;66;03m# If we have a listlike key, _check_indexing_error will raise\u001b[39;00m\n\u001b[0;32m   3815\u001b[0m     \u001b[38;5;66;03m#  InvalidIndexError. Otherwise we fall through and re-raise\u001b[39;00m\n\u001b[0;32m   3816\u001b[0m     \u001b[38;5;66;03m#  the TypeError.\u001b[39;00m\n\u001b[0;32m   3817\u001b[0m     \u001b[38;5;28mself\u001b[39m\u001b[38;5;241m.\u001b[39m_check_indexing_error(key)\n",
      "\u001b[1;31mKeyError\u001b[0m: 'Away_Team_Score'"
     ]
    }
   ],
   "source": [
    "away_Score = alldata['Away_Team_Score'].copy()\n",
    "alldata.columns = Labels\n",
    "alldata['Away_team'] = alldata['Home_Team']\n",
    "alldata['Home_Team'] =  alldata['Home_score']\n",
    "alldata['Home_score'] = alldata['Away_score']\n",
    "alldata['Away_score'] = away_Score\n",
    "spanish"
   ]
  },
  {
   "cell_type": "code",
   "execution_count": 286,
   "id": "fb42a390-be0b-424b-bf91-a2ca2d58f5bc",
   "metadata": {},
   "outputs": [],
   "source": [
    "spanish.drop('Unnamed: 5',axis=1, inplace=True)\n",
    "spanish.columns = Labels\n",
    "spanish_c = spanish['Home_Team'].copy()\n",
    "spanish['Home_Team'] = spanish['Away_team']\n",
    "spanish['Away_team'] = spanish['Home_score']\n",
    "spanish['Home_score'] = spanish['Away_score']\n",
    "spanish['Away_score'] = spanish['Season']\n",
    "spanish['Season'] = spanish_c"
   ]
  },
  {
   "cell_type": "code",
   "execution_count": 252,
   "id": "86825796-1842-46e1-8ee8-30e9bfc351fe",
   "metadata": {},
   "outputs": [],
   "source": [
    "german.columns = Labels\n",
    "german_c = german['Home_Team'].copy()\n",
    "german['Home_Team'] = german['Away_team']\n",
    "german['Away_team'] = german['Home_score']\n",
    "german['Home_score'] = german['Away_score']\n",
    "german['Away_score'] = german['Season']\n",
    "german['Season'] = german_c"
   ]
  },
  {
   "cell_type": "code",
   "execution_count": 256,
   "id": "b16b378a-8055-4767-9204-b79030ab9f7f",
   "metadata": {},
   "outputs": [],
   "source": [
    "france.columns = Labels\n",
    "france_C = france['Home_score'].copy()\n",
    "france['Home_score'] = france['Away_score']\n",
    "france['Away_score'] = france['Season']\n",
    "france['Season'] = france_C"
   ]
  },
  {
   "cell_type": "code",
   "execution_count": 266,
   "id": "32a96e74-3933-498d-a0f1-1e948ea2cb74",
   "metadata": {},
   "outputs": [],
   "source": [
    "Data = pd.concat([alldata,spanish,german,france])"
   ]
  },
  {
   "cell_type": "code",
   "execution_count": 270,
   "id": "9ac92b15-8e7b-4f57-b268-6f5b2b5cbc3c",
   "metadata": {},
   "outputs": [],
   "source": [
    "Data.to_csv('Data.csv')"
   ]
  },
  {
   "cell_type": "code",
   "execution_count": null,
   "id": "1455de32-0616-45e3-b4b2-175afaf302a1",
   "metadata": {},
   "outputs": [],
   "source": []
  }
 ],
 "metadata": {
  "kernelspec": {
   "display_name": "Python [conda env:base] *",
   "language": "python",
   "name": "conda-base-py"
  },
  "language_info": {
   "codemirror_mode": {
    "name": "ipython",
    "version": 3
   },
   "file_extension": ".py",
   "mimetype": "text/x-python",
   "name": "python",
   "nbconvert_exporter": "python",
   "pygments_lexer": "ipython3",
   "version": "3.12.7"
  }
 },
 "nbformat": 4,
 "nbformat_minor": 5
}
