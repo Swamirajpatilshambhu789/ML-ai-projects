import pandas as pd
import numpy as np


data = pd.read_csv('Orignal_Data.csv')
data.dropna(inplace=True)
data = data.reset_index(drop=True)
Labels = ['Home_Team', 'Away_team', 'Home_score', 'Away_score', 'Season', 'Result']


data["Result"] = data.apply(
    lambda row: "Win" if row["Home_score"] > row["Away_score"]
    else "Loss" if row["Home_score"] < row["Away_score"]
    else "Draw", axis=1
)
data


from sklearn.model_selection import StratifiedShuffleSplit
split = StratifiedShuffleSplit(n_splits=1, test_size=0.22, random_state=42)
for train_index, test_index in split.split(data, data["Result"]):
 strat_train_set = data.loc[train_index]
 strat_test_set = data.loc[test_index]


data = strat_train_set.copy()
data = data.reset_index(drop=True)
data.drop('Unnamed: 0', axis=1,inplace=True)
# data.columns


from sklearn.preprocessing import OrdinalEncoder
ordinal_encoder = OrdinalEncoder()
Season = ordinal_encoder.fit_transform(pd.DataFrame(data['Season']))
Result = ordinal_encoder.fit_transform(pd.DataFrame(data['Result']))
Season = pd.DataFrame(Season)
Result = pd.DataFrame(Result)
data['Season'] = Season
data['Result'] = Result


from category_encoders import TargetEncoder
target_encoder = TargetEncoder()
Home_team = target_encoder.fit_transform(X=data['Home_Team'], y=data['Result'])
away_team = target_encoder.fit_transform(X=data['Away_team'], y=data['Result'])


Data = data.copy()
Data


data['Home_Team'] = Home_team
data['Away_team'] = away_team
from sklearn.preprocessing import StandardScaler
std_scaler = StandardScaler()
data = std_scaler.fit_transform(data)



data = pd.DataFrame(data)
data.columns = Labels


data.to_csv('Data.csv')









