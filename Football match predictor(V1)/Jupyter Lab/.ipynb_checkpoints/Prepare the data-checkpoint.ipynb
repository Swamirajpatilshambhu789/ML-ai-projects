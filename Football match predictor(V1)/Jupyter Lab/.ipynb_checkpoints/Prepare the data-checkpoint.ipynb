{
 "cells": [
  {
   "cell_type": "code",
   "execution_count": 1,
   "id": "6815f899-3953-4ac6-b050-f0f5d77c5c9b",
   "metadata": {},
   "outputs": [],
   "source": [
    "import pandas as pd\n",
    "import numpy as np"
   ]
  },
  {
   "cell_type": "code",
   "execution_count": 59,
   "id": "2d704c4c-17ef-4a2b-818c-ace5534de701",
   "metadata": {},
   "outputs": [],
   "source": [
    "data = pd.read_csv('Data.csv')\n",
    "data.dropna(inplace=True)\n",
    "data = data.reset_index(drop=True)\n",
    "Labels = ['Home_Team', 'Away_team', 'Home_score', 'Away_score', 'Season', 'Result']"
   ]
  },
  {
   "cell_type": "code",
   "execution_count": 61,
   "id": "2078bded-66e6-4a34-90ef-9ea06f67a14a",
   "metadata": {},
   "outputs": [
    {
     "data": {
      "text/html": [
       "<div>\n",
       "<style scoped>\n",
       "    .dataframe tbody tr th:only-of-type {\n",
       "        vertical-align: middle;\n",
       "    }\n",
       "\n",
       "    .dataframe tbody tr th {\n",
       "        vertical-align: top;\n",
       "    }\n",
       "\n",
       "    .dataframe thead th {\n",
       "        text-align: right;\n",
       "    }\n",
       "</style>\n",
       "<table border=\"1\" class=\"dataframe\">\n",
       "  <thead>\n",
       "    <tr style=\"text-align: right;\">\n",
       "      <th></th>\n",
       "      <th>Unnamed: 0</th>\n",
       "      <th>Home_Team</th>\n",
       "      <th>Away_team</th>\n",
       "      <th>Home_score</th>\n",
       "      <th>Away_score</th>\n",
       "      <th>Season</th>\n",
       "      <th>Result</th>\n",
       "    </tr>\n",
       "  </thead>\n",
       "  <tbody>\n",
       "    <tr>\n",
       "      <th>0</th>\n",
       "      <td>0</td>\n",
       "      <td>1.306818</td>\n",
       "      <td>1.201772</td>\n",
       "      <td>1.0</td>\n",
       "      <td>1.0</td>\n",
       "      <td>130.0</td>\n",
       "      <td>Draw</td>\n",
       "    </tr>\n",
       "    <tr>\n",
       "      <th>1</th>\n",
       "      <td>1</td>\n",
       "      <td>1.306818</td>\n",
       "      <td>1.178161</td>\n",
       "      <td>4.0</td>\n",
       "      <td>0.0</td>\n",
       "      <td>23.0</td>\n",
       "      <td>Win</td>\n",
       "    </tr>\n",
       "    <tr>\n",
       "      <th>2</th>\n",
       "      <td>2</td>\n",
       "      <td>1.258015</td>\n",
       "      <td>1.209302</td>\n",
       "      <td>3.0</td>\n",
       "      <td>0.0</td>\n",
       "      <td>98.0</td>\n",
       "      <td>Win</td>\n",
       "    </tr>\n",
       "    <tr>\n",
       "      <th>3</th>\n",
       "      <td>3</td>\n",
       "      <td>1.632801</td>\n",
       "      <td>1.216450</td>\n",
       "      <td>1.0</td>\n",
       "      <td>0.0</td>\n",
       "      <td>54.0</td>\n",
       "      <td>Win</td>\n",
       "    </tr>\n",
       "    <tr>\n",
       "      <th>4</th>\n",
       "      <td>4</td>\n",
       "      <td>1.135417</td>\n",
       "      <td>1.271739</td>\n",
       "      <td>1.0</td>\n",
       "      <td>2.0</td>\n",
       "      <td>34.0</td>\n",
       "      <td>Loss</td>\n",
       "    </tr>\n",
       "    <tr>\n",
       "      <th>...</th>\n",
       "      <td>...</td>\n",
       "      <td>...</td>\n",
       "      <td>...</td>\n",
       "      <td>...</td>\n",
       "      <td>...</td>\n",
       "      <td>...</td>\n",
       "      <td>...</td>\n",
       "    </tr>\n",
       "    <tr>\n",
       "      <th>121181</th>\n",
       "      <td>121181</td>\n",
       "      <td>1.385378</td>\n",
       "      <td>1.213945</td>\n",
       "      <td>0.0</td>\n",
       "      <td>0.0</td>\n",
       "      <td>130.0</td>\n",
       "      <td>Draw</td>\n",
       "    </tr>\n",
       "    <tr>\n",
       "      <th>121182</th>\n",
       "      <td>121182</td>\n",
       "      <td>1.236052</td>\n",
       "      <td>1.199438</td>\n",
       "      <td>2.0</td>\n",
       "      <td>0.0</td>\n",
       "      <td>63.0</td>\n",
       "      <td>Win</td>\n",
       "    </tr>\n",
       "    <tr>\n",
       "      <th>121183</th>\n",
       "      <td>121183</td>\n",
       "      <td>1.228900</td>\n",
       "      <td>1.121795</td>\n",
       "      <td>1.0</td>\n",
       "      <td>1.0</td>\n",
       "      <td>170.0</td>\n",
       "      <td>Draw</td>\n",
       "    </tr>\n",
       "    <tr>\n",
       "      <th>121184</th>\n",
       "      <td>121184</td>\n",
       "      <td>1.182081</td>\n",
       "      <td>1.202677</td>\n",
       "      <td>2.0</td>\n",
       "      <td>2.0</td>\n",
       "      <td>15.0</td>\n",
       "      <td>Draw</td>\n",
       "    </tr>\n",
       "    <tr>\n",
       "      <th>121185</th>\n",
       "      <td>121185</td>\n",
       "      <td>0.957107</td>\n",
       "      <td>1.186047</td>\n",
       "      <td>1.0</td>\n",
       "      <td>2.0</td>\n",
       "      <td>80.0</td>\n",
       "      <td>Loss</td>\n",
       "    </tr>\n",
       "  </tbody>\n",
       "</table>\n",
       "<p>121186 rows × 7 columns</p>\n",
       "</div>"
      ],
      "text/plain": [
       "        Unnamed: 0  Home_Team  Away_team  Home_score  Away_score  Season  \\\n",
       "0                0   1.306818   1.201772         1.0         1.0   130.0   \n",
       "1                1   1.306818   1.178161         4.0         0.0    23.0   \n",
       "2                2   1.258015   1.209302         3.0         0.0    98.0   \n",
       "3                3   1.632801   1.216450         1.0         0.0    54.0   \n",
       "4                4   1.135417   1.271739         1.0         2.0    34.0   \n",
       "...            ...        ...        ...         ...         ...     ...   \n",
       "121181      121181   1.385378   1.213945         0.0         0.0   130.0   \n",
       "121182      121182   1.236052   1.199438         2.0         0.0    63.0   \n",
       "121183      121183   1.228900   1.121795         1.0         1.0   170.0   \n",
       "121184      121184   1.182081   1.202677         2.0         2.0    15.0   \n",
       "121185      121185   0.957107   1.186047         1.0         2.0    80.0   \n",
       "\n",
       "       Result  \n",
       "0        Draw  \n",
       "1         Win  \n",
       "2         Win  \n",
       "3         Win  \n",
       "4        Loss  \n",
       "...       ...  \n",
       "121181   Draw  \n",
       "121182    Win  \n",
       "121183   Draw  \n",
       "121184   Draw  \n",
       "121185   Loss  \n",
       "\n",
       "[121186 rows x 7 columns]"
      ]
     },
     "execution_count": 61,
     "metadata": {},
     "output_type": "execute_result"
    }
   ],
   "source": [
    "data[\"Result\"] = data.apply(\n",
    "    lambda row: \"Win\" if row[\"Home_score\"] > row[\"Away_score\"]\n",
    "    else \"Loss\" if row[\"Home_score\"] < row[\"Away_score\"]\n",
    "    else \"Draw\", axis=1\n",
    ")\n",
    "data"
   ]
  },
  {
   "cell_type": "code",
   "execution_count": 62,
   "id": "39d4c520-be70-4f51-8984-5371272a8aeb",
   "metadata": {},
   "outputs": [],
   "source": [
    "from sklearn.model_selection import StratifiedShuffleSplit\n",
    "split = StratifiedShuffleSplit(n_splits=1, test_size=0.22, random_state=42)\n",
    "for train_index, test_index in split.split(data, data[\"Result\"]):\n",
    " strat_train_set = data.loc[train_index]\n",
    " strat_test_set = data.loc[test_index]"
   ]
  },
  {
   "cell_type": "code",
   "execution_count": 63,
   "id": "d054e918-29a5-47b0-86ab-ec3913120288",
   "metadata": {},
   "outputs": [],
   "source": [
    "data = strat_train_set.copy()\n",
    "data = data.reset_index(drop=True)\n",
    "data.drop('Unnamed: 0', axis=1,inplace=True)\n",
    "# data.columns"
   ]
  },
  {
   "cell_type": "code",
   "execution_count": 64,
   "id": "e8f5daae-5df7-4170-a572-f51b36774295",
   "metadata": {},
   "outputs": [],
   "source": [
    "from sklearn.preprocessing import OrdinalEncoder\n",
    "ordinal_encoder = OrdinalEncoder()\n",
    "Season = ordinal_encoder.fit_transform(pd.DataFrame(data['Season']))\n",
    "Result = ordinal_encoder.fit_transform(pd.DataFrame(data['Result']))\n",
    "Season = pd.DataFrame(Season)\n",
    "Result = pd.DataFrame(Result)\n",
    "data['Season'] = Season\n",
    "data['Result'] = Result"
   ]
  },
  {
   "cell_type": "code",
   "execution_count": 65,
   "id": "8a27d467-8f16-4368-84a0-354d160f878d",
   "metadata": {},
   "outputs": [
    {
     "name": "stdout",
     "output_type": "stream",
     "text": [
      "Warning: No categorical columns found. Calling 'transform' will only return input data.\n",
      "Warning: No categorical columns found. Calling 'transform' will only return input data.\n"
     ]
    }
   ],
   "source": [
    "from category_encoders import TargetEncoder\n",
    "target_encoder = TargetEncoder()\n",
    "Home_team = target_encoder.fit_transform(X=data['Home_Team'], y=data['Result'])\n",
    "away_team = target_encoder.fit_transform(X=data['Away_team'], y=data['Result'])"
   ]
  },
  {
   "cell_type": "code",
   "execution_count": 66,
   "id": "0c5af56c-87b8-483d-bc74-51fdcdb88b83",
   "metadata": {},
   "outputs": [],
   "source": [
    "data['Home_Team'] = Home_team\n",
    "data['Away_team'] = away_team"
   ]
  },
  {
   "cell_type": "code",
   "execution_count": 70,
   "id": "b79036ff-cd36-438a-a895-f5c1d6ac8dbd",
   "metadata": {},
   "outputs": [],
   "source": [
    "from sklearn.preprocessing import StandardScaler\n",
    "std_scaler = StandardScaler()\n",
    "data = std_scaler.fit_transform(data)\n",
    "data = pd.DataFrame(data_C)\n",
    "data.columns = Labels"
   ]
  },
  {
   "cell_type": "code",
   "execution_count": 72,
   "id": "5e51ce00-1ea5-424c-9c58-eb0bd21c9cf8",
   "metadata": {},
   "outputs": [],
   "source": [
    "data.to_csv('Data.csv')"
   ]
  },
  {
   "cell_type": "code",
   "execution_count": null,
   "id": "6c57f4fd-3ab9-42a6-aa23-83731d7c7675",
   "metadata": {},
   "outputs": [],
   "source": []
  }
 ],
 "metadata": {
  "kernelspec": {
   "display_name": "Python [conda env:base] *",
   "language": "python",
   "name": "conda-base-py"
  },
  "language_info": {
   "codemirror_mode": {
    "name": "ipython",
    "version": 3
   },
   "file_extension": ".py",
   "mimetype": "text/x-python",
   "name": "python",
   "nbconvert_exporter": "python",
   "pygments_lexer": "ipython3",
   "version": "3.12.7"
  }
 },
 "nbformat": 4,
 "nbformat_minor": 5
}
