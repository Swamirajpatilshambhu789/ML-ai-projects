{
 "cells": [
  {
   "cell_type": "code",
   "execution_count": null,
   "id": "ca1fed8a-27e8-4c46-af95-a1aa8cfffecb",
   "metadata": {},
   "outputs": [],
   "source": [
    "from sklearn.pipeline import Pipeline\n",
    "from sklearn.compose import ColumnTransformer\n",
    "from sklearn.preprocessing import StandardScaler\n",
    "from sklearn.ensemble import RandomForestClassifier\n",
    "import category_encoders as ce \n",
    "categorical_cols = ['Home_Team', 'Away_team']\n",
    "numeric_cols = ['Home_score', 'Away_score']\n",
    "preprocessor = ColumnTransformer([\n",
    "    ('target_enc', ce.TargetEncoder(), categorical_cols),\n",
    "    ('scaler', StandardScaler(), numeric_cols)\n",
    "])\n",
    "model_pipeline = Pipeline([\n",
    "    ('preprocessing', preprocessor)\n",
    "])\n",
    "\n"
   ]
  }
 ],
 "metadata": {
  "kernelspec": {
   "display_name": "Python [conda env:base] *",
   "language": "python",
   "name": "conda-base-py"
  },
  "language_info": {
   "codemirror_mode": {
    "name": "ipython",
    "version": 3
   },
   "file_extension": ".py",
   "mimetype": "text/x-python",
   "name": "python",
   "nbconvert_exporter": "python",
   "pygments_lexer": "ipython3",
   "version": "3.12.7"
  }
 },
 "nbformat": 4,
 "nbformat_minor": 5
}
