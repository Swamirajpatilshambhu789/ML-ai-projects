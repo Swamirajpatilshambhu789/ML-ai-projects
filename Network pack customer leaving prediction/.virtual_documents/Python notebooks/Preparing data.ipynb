from sklearn.model_selection import StratifiedShuffleSplit
from sklearn.preprocessing import OneHotEncoder, StandardScaler
from sklearn.compose import ColumnTransformer
import numpy as np
import pandas as pd


data = pd.read_csv('Data.csv')
data


split = StratifiedShuffleSplit(n_splits=1, test_size=0.2,random_state=42)


# Shuffle split
X = data[['PaymentMethod', 'MonthlyCharges', 'TotalCharges', 'Contract',
          'PhoneService', 'MultipleLines', 'InternetService', 'OnlineSecurity',
          'DeviceProtection', 'TechSupport', 'StreamingTV', 'StreamingMovies']]

y = data['Churn']
split = StratifiedShuffleSplit(n_splits=1, test_size=0.2, random_state=42)
for train_index, test_index in split.split(X, y):
    train_set = data.iloc[train_index]
    test_set = data.iloc[test_index]
print("Train set shape:", train_set.shape)
print("Test set shape:", test_set.shape)
train_set.columns


train_set = train_set.drop("customerID", axis=1)
train_set["TotalCharges"] = pd.to_numeric(train_set["TotalCharges"], errors="coerce")
train_set["TotalCharges"] = train_set["TotalCharges"].fillna(train_set["TotalCharges"].median())
y = train_set["Churn"].map({"No": 0, "Yes": 1})
X = train_set.drop("Churn", axis=1)



# Difining groups of columns
binary_features = ["gender", "Partner", "Dependents", "PhoneService", "PaperlessBilling"]

multi_features = [
    "Contract", "PaymentMethod", "MultipleLines", "InternetService",
    "OnlineSecurity", "OnlineBackup", "DeviceProtection", "TechSupport",
    "StreamingTV", "StreamingMovies"
]

numeric_features = ["tenure", "MonthlyCharges", "TotalCharges"]

numeric_pass = ["SeniorCitizen"]



# Using a preprocessor for encoding
preprocessor = ColumnTransformer(
    transformers=[
        ("binary", OneHotEncoder(drop="if_binary"), binary_features),     # binary categoricals
        ("multi", OneHotEncoder(handle_unknown="ignore"), multi_features), # multi-class categoricals
        ("num", StandardScaler(), numeric_features),                      # scale numerical
        ("pass", "passthrough", numeric_pass)                             # keep SeniorCitizen
    ]
)
test_set = preprocessor.fit_transform(X)


test_set = pd.DataFrame(test_set)


test_Set



