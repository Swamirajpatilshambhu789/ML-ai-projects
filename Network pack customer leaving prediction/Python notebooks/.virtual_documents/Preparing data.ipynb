from sklearn.model_selection import StratifiedShuffleSplit
import pandas as pd


data = pd.read_csv('Data.csv')
data


split = StratifiedShuffleSplit(n_splits=1, test_size=0.2,random_state=42)


X = data[['PaymentMethod', 'MonthlyCharges', 'TotalCharges', 'Contract',
          'PhoneService', 'MultipleLines', 'InternetService', 'OnlineSecurity',
          'DeviceProtection', 'TechSupport', 'StreamingTV', 'StreamingMovies']]

y = data['Churn']
split = StratifiedShuffleSplit(n_splits=1, test_size=0.2, random_state=42)
for train_index, test_index in split.split(X, y):
    train_set = data.iloc[train_index]
    test_set = data.iloc[test_index]
print("Train set shape:", train_set.shape)
print("Test set shape:", test_set.shape)




